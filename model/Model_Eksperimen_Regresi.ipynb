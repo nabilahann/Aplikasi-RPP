{
  "cells": [
    {
      "cell_type": "markdown",
      "source": [
        "# Eksperimen"
      ],
      "metadata": {
        "id": "cCUS1sGdSM6h"
      }
    },
    {
      "cell_type": "code",
      "source": [
        "# Importing the libraries\n",
        "import numpy as np\n",
        "import matplotlib.pyplot as plt\n",
        "import pandas as pd\n",
        "from sklearn.preprocessing import LabelEncoder"
      ],
      "metadata": {
        "id": "nIK_WCx2SOrq"
      },
      "execution_count": 15,
      "outputs": []
    },
    {
      "cell_type": "code",
      "source": [
        "# read data\n",
        "data = pd.read_csv('data_harga_beras.csv')\n",
        "print(data)"
      ],
      "metadata": {
        "colab": {
          "base_uri": "https://localhost:8080/"
        },
        "id": "A6txQDF_Shey",
        "outputId": "0d0e4462-e878-42f2-98b3-e0c29c93f66b"
      },
      "execution_count": 16,
      "outputs": [
        {
          "output_type": "stream",
          "name": "stdout",
          "text": [
            "     Tahun      Bulan       Kualitas     Harga\n",
            "0     2013    Januari        Premium   7797.63\n",
            "1     2013    Januari         Medium   7697.37\n",
            "2     2013    Januari  Luar Kualitas   7545.32\n",
            "3     2013   Februari        Premium   7773.26\n",
            "4     2013   Februari         Medium   7645.05\n",
            "..     ...        ...            ...       ...\n",
            "346   2022    Agustus         Medium   9358.34\n",
            "347   2022    Agustus  Luar Kualitas   9069.27\n",
            "348   2022  September        Premium  10252.31\n",
            "349   2022  September         Medium   9785.04\n",
            "350   2022  September  Luar Kualitas   9465.63\n",
            "\n",
            "[351 rows x 4 columns]\n"
          ]
        }
      ]
    },
    {
      "cell_type": "code",
      "source": [
        "# convert data bulan dan kualitas to numeric\n",
        "def convert_bulan(bulan):\n",
        "  try :\n",
        "    if(bulan == \"Januari\"):\n",
        "      return 0\n",
        "    elif(bulan == \"Februari\"):\n",
        "      return 1\n",
        "    elif(bulan == \"Maret\"):\n",
        "      return 2\n",
        "    elif(bulan == \"April\"):\n",
        "      return 3\n",
        "    elif(bulan == \"Mei\"):\n",
        "      return 4\n",
        "    elif(bulan == \"Juni\"):\n",
        "      return 5\n",
        "    elif(bulan == \"Juli\"):\n",
        "      return 6\n",
        "    elif(bulan == \"Agustus\"):\n",
        "      return 7\n",
        "    elif(bulan == \"September\"):\n",
        "      return 8\n",
        "    elif(bulan == \"Oktober\"):\n",
        "      return 9\n",
        "    elif(bulan == \"November\"):\n",
        "      return 10\n",
        "    elif(bulan == \"Desember\"):\n",
        "      return 11\n",
        "    else : \n",
        "      raise \n",
        "\n",
        "  except :\n",
        "    print(\"Gagal mengkonversi bulan\")\n",
        "    return -1\n",
        "\n",
        "\n",
        "def convert_kualitas(kualitas):\n",
        "  try :\n",
        "    if(kualitas == \"Premium\"):\n",
        "      return 0\n",
        "    elif(kualitas == \"Medium\"):\n",
        "      return 1\n",
        "    elif(kualitas == \"Luar Kualitas\"):\n",
        "      return 2\n",
        "    else : \n",
        "      raise \n",
        "\n",
        "  except :\n",
        "    print(\"Gagal mengkonversi kualitas\")\n",
        "    return -1\n",
        "\n",
        "\n",
        "data[\"Bulan\"] = data[\"Bulan\"].apply(convert_bulan)\n",
        "data[\"Kualitas\"] = data[\"Kualitas\"].apply(convert_kualitas)"
      ],
      "metadata": {
        "id": "gas7RLeTfHnx"
      },
      "execution_count": 17,
      "outputs": []
    },
    {
      "cell_type": "code",
      "source": [
        "# training data\n",
        "x = data.iloc [:300, : -1]\n",
        "y = data.iloc [:300, -1 :]"
      ],
      "metadata": {
        "id": "K3_MnKL_SuxC"
      },
      "execution_count": 18,
      "outputs": []
    },
    {
      "cell_type": "code",
      "source": [
        "print(x.to_numpy())"
      ],
      "metadata": {
        "colab": {
          "base_uri": "https://localhost:8080/"
        },
        "id": "RiiF-E7mTVCx",
        "outputId": "dc50d4d1-3100-4aba-c736-5150abf602c0"
      },
      "execution_count": 19,
      "outputs": [
        {
          "output_type": "stream",
          "name": "stdout",
          "text": [
            "[[2013    0    0]\n",
            " [2013    0    1]\n",
            " [2013    0    2]\n",
            " [2013    1    0]\n",
            " [2013    1    1]\n",
            " [2013    1    2]\n",
            " [2013    2    0]\n",
            " [2013    2    1]\n",
            " [2013    2    2]\n",
            " [2013    3    0]\n",
            " [2013    3    1]\n",
            " [2013    3    2]\n",
            " [2013    4    0]\n",
            " [2013    4    1]\n",
            " [2013    4    2]\n",
            " [2013    5    0]\n",
            " [2013    5    1]\n",
            " [2013    5    2]\n",
            " [2013    6    0]\n",
            " [2013    6    1]\n",
            " [2013    6    2]\n",
            " [2013    7    0]\n",
            " [2013    7    1]\n",
            " [2013    7    2]\n",
            " [2013    8    0]\n",
            " [2013    8    1]\n",
            " [2013    8    2]\n",
            " [2013    9    0]\n",
            " [2013    9    1]\n",
            " [2013    9    2]\n",
            " [2013   10    0]\n",
            " [2013   10    1]\n",
            " [2013   10    2]\n",
            " [2013   11    0]\n",
            " [2013   11    1]\n",
            " [2013   11    2]\n",
            " [2014    0    0]\n",
            " [2014    0    1]\n",
            " [2014    0    2]\n",
            " [2014    1    0]\n",
            " [2014    1    1]\n",
            " [2014    1    2]\n",
            " [2014    2    0]\n",
            " [2014    2    1]\n",
            " [2014    2    2]\n",
            " [2014    3    0]\n",
            " [2014    3    1]\n",
            " [2014    3    2]\n",
            " [2014    4    0]\n",
            " [2014    4    1]\n",
            " [2014    4    2]\n",
            " [2014    5    0]\n",
            " [2014    5    1]\n",
            " [2014    5    2]\n",
            " [2014    6    0]\n",
            " [2014    6    1]\n",
            " [2014    6    2]\n",
            " [2014    7    0]\n",
            " [2014    7    1]\n",
            " [2014    7    2]\n",
            " [2014    8    0]\n",
            " [2014    8    1]\n",
            " [2014    8    2]\n",
            " [2014    9    0]\n",
            " [2014    9    1]\n",
            " [2014    9    2]\n",
            " [2014   10    0]\n",
            " [2014   10    1]\n",
            " [2014   10    2]\n",
            " [2014   11    0]\n",
            " [2014   11    1]\n",
            " [2014   11    2]\n",
            " [2015    0    0]\n",
            " [2015    0    1]\n",
            " [2015    0    2]\n",
            " [2015    1    0]\n",
            " [2015    1    1]\n",
            " [2015    1    2]\n",
            " [2015    2    0]\n",
            " [2015    2    1]\n",
            " [2015    2    2]\n",
            " [2015    3    0]\n",
            " [2015    3    1]\n",
            " [2015    3    2]\n",
            " [2015    4    0]\n",
            " [2015    4    1]\n",
            " [2015    4    2]\n",
            " [2015    5    0]\n",
            " [2015    5    1]\n",
            " [2015    5    2]\n",
            " [2015    6    0]\n",
            " [2015    6    1]\n",
            " [2015    6    2]\n",
            " [2015    7    0]\n",
            " [2015    7    1]\n",
            " [2015    7    2]\n",
            " [2015    8    0]\n",
            " [2015    8    1]\n",
            " [2015    8    2]\n",
            " [2015    9    0]\n",
            " [2015    9    1]\n",
            " [2015    9    2]\n",
            " [2015   10    0]\n",
            " [2015   10    1]\n",
            " [2015   10    2]\n",
            " [2015   11    0]\n",
            " [2015   11    1]\n",
            " [2015   11    2]\n",
            " [2016    0    0]\n",
            " [2016    0    1]\n",
            " [2016    0    2]\n",
            " [2016    1    0]\n",
            " [2016    1    1]\n",
            " [2016    1    2]\n",
            " [2016    2    0]\n",
            " [2016    2    1]\n",
            " [2016    2    2]\n",
            " [2016    3    0]\n",
            " [2016    3    1]\n",
            " [2016    3    2]\n",
            " [2016    4    0]\n",
            " [2016    4    1]\n",
            " [2016    4    2]\n",
            " [2016    5    0]\n",
            " [2016    5    1]\n",
            " [2016    5    2]\n",
            " [2016    6    0]\n",
            " [2016    6    1]\n",
            " [2016    6    2]\n",
            " [2016    7    0]\n",
            " [2016    7    1]\n",
            " [2016    7    2]\n",
            " [2016    8    0]\n",
            " [2016    8    1]\n",
            " [2016    8    2]\n",
            " [2016    9    0]\n",
            " [2016    9    1]\n",
            " [2016    9    2]\n",
            " [2016   10    0]\n",
            " [2016   10    1]\n",
            " [2016   10    2]\n",
            " [2016   11    0]\n",
            " [2016   11    1]\n",
            " [2016   11    2]\n",
            " [2017    0    0]\n",
            " [2017    0    1]\n",
            " [2017    0    2]\n",
            " [2017    1    0]\n",
            " [2017    1    1]\n",
            " [2017    1    2]\n",
            " [2017    2    0]\n",
            " [2017    2    1]\n",
            " [2017    2    2]\n",
            " [2017    3    0]\n",
            " [2017    3    1]\n",
            " [2017    3    2]\n",
            " [2017    4    0]\n",
            " [2017    4    1]\n",
            " [2017    4    2]\n",
            " [2017    5    0]\n",
            " [2017    5    1]\n",
            " [2017    5    2]\n",
            " [2017    6    0]\n",
            " [2017    6    1]\n",
            " [2017    6    2]\n",
            " [2017    7    0]\n",
            " [2017    7    1]\n",
            " [2017    7    2]\n",
            " [2017    8    0]\n",
            " [2017    8    1]\n",
            " [2017    8    2]\n",
            " [2017    9    0]\n",
            " [2017    9    1]\n",
            " [2017    9    2]\n",
            " [2017   10    0]\n",
            " [2017   10    1]\n",
            " [2017   10    2]\n",
            " [2017   11    0]\n",
            " [2017   11    1]\n",
            " [2017   11    2]\n",
            " [2018    0    0]\n",
            " [2018    0    1]\n",
            " [2018    0    2]\n",
            " [2018    1    0]\n",
            " [2018    1    1]\n",
            " [2018    1    2]\n",
            " [2018    2    0]\n",
            " [2018    2    1]\n",
            " [2018    2    2]\n",
            " [2018    3    0]\n",
            " [2018    3    1]\n",
            " [2018    3    2]\n",
            " [2018    4    0]\n",
            " [2018    4    1]\n",
            " [2018    4    2]\n",
            " [2018    5    0]\n",
            " [2018    5    1]\n",
            " [2018    5    2]\n",
            " [2018    6    0]\n",
            " [2018    6    1]\n",
            " [2018    6    2]\n",
            " [2018    7    0]\n",
            " [2018    7    1]\n",
            " [2018    7    2]\n",
            " [2018    8    0]\n",
            " [2018    8    1]\n",
            " [2018    8    2]\n",
            " [2018    9    0]\n",
            " [2018    9    1]\n",
            " [2018    9    2]\n",
            " [2018   10    0]\n",
            " [2018   10    1]\n",
            " [2018   10    2]\n",
            " [2018   11    0]\n",
            " [2018   11    1]\n",
            " [2018   11    2]\n",
            " [2019    0    0]\n",
            " [2019    0    1]\n",
            " [2019    0    2]\n",
            " [2019    1    0]\n",
            " [2019    1    1]\n",
            " [2019    1    2]\n",
            " [2019    2    0]\n",
            " [2019    2    1]\n",
            " [2019    2    2]\n",
            " [2019    3    0]\n",
            " [2019    3    1]\n",
            " [2019    3    2]\n",
            " [2019    4    0]\n",
            " [2019    4    1]\n",
            " [2019    4    2]\n",
            " [2019    5    0]\n",
            " [2019    5    1]\n",
            " [2019    5    2]\n",
            " [2019    6    0]\n",
            " [2019    6    1]\n",
            " [2019    6    2]\n",
            " [2019    7    0]\n",
            " [2019    7    1]\n",
            " [2019    7    2]\n",
            " [2019    8    0]\n",
            " [2019    8    1]\n",
            " [2019    8    2]\n",
            " [2019    9    0]\n",
            " [2019    9    1]\n",
            " [2019    9    2]\n",
            " [2019   10    0]\n",
            " [2019   10    1]\n",
            " [2019   10    2]\n",
            " [2019   11    0]\n",
            " [2019   11    1]\n",
            " [2019   11    2]\n",
            " [2020    0    0]\n",
            " [2020    0    1]\n",
            " [2020    0    2]\n",
            " [2020    1    0]\n",
            " [2020    1    1]\n",
            " [2020    1    2]\n",
            " [2020    2    0]\n",
            " [2020    2    1]\n",
            " [2020    2    2]\n",
            " [2020    3    0]\n",
            " [2020    3    1]\n",
            " [2020    3    2]\n",
            " [2020    4    0]\n",
            " [2020    4    1]\n",
            " [2020    4    2]\n",
            " [2020    5    0]\n",
            " [2020    5    1]\n",
            " [2020    5    2]\n",
            " [2020    6    0]\n",
            " [2020    6    1]\n",
            " [2020    6    2]\n",
            " [2020    7    0]\n",
            " [2020    7    1]\n",
            " [2020    7    2]\n",
            " [2020    8    0]\n",
            " [2020    8    1]\n",
            " [2020    8    2]\n",
            " [2020    9    0]\n",
            " [2020    9    1]\n",
            " [2020    9    2]\n",
            " [2020   10    0]\n",
            " [2020   10    1]\n",
            " [2020   10    2]\n",
            " [2020   11    0]\n",
            " [2020   11    1]\n",
            " [2020   11    2]\n",
            " [2021    0    0]\n",
            " [2021    0    1]\n",
            " [2021    0    2]\n",
            " [2021    1    0]\n",
            " [2021    1    1]\n",
            " [2021    1    2]\n",
            " [2021    2    0]\n",
            " [2021    2    1]\n",
            " [2021    2    2]\n",
            " [2021    3    0]\n",
            " [2021    3    1]\n",
            " [2021    3    2]]\n"
          ]
        }
      ]
    },
    {
      "cell_type": "code",
      "source": [
        "print(y)"
      ],
      "metadata": {
        "colab": {
          "base_uri": "https://localhost:8080/"
        },
        "id": "0RayghxPTVPL",
        "outputId": "58099830-94ee-4838-a2e2-350cb4ba7436"
      },
      "execution_count": 20,
      "outputs": [
        {
          "output_type": "stream",
          "name": "stdout",
          "text": [
            "       Harga\n",
            "0    7797.63\n",
            "1    7697.37\n",
            "2    7545.32\n",
            "3    7773.26\n",
            "4    7645.05\n",
            "..       ...\n",
            "295  9153.68\n",
            "296  8741.80\n",
            "297  9549.76\n",
            "298  8978.86\n",
            "299  8675.23\n",
            "\n",
            "[300 rows x 1 columns]\n"
          ]
        }
      ]
    },
    {
      "cell_type": "code",
      "source": [
        "# test data\n",
        "x_test = data.iloc [300:, : -1]\n",
        "y_test = data.iloc[300:, -1 :]"
      ],
      "metadata": {
        "id": "KPIWX-V6ZgPa"
      },
      "execution_count": 21,
      "outputs": []
    },
    {
      "cell_type": "code",
      "source": [
        "print(x_test)"
      ],
      "metadata": {
        "colab": {
          "base_uri": "https://localhost:8080/"
        },
        "id": "huElCKuvZja-",
        "outputId": "67dbcc74-e163-4c43-afee-3201427eeed4"
      },
      "execution_count": 22,
      "outputs": [
        {
          "output_type": "stream",
          "name": "stdout",
          "text": [
            "     Tahun  Bulan  Kualitas\n",
            "300   2021      4         0\n",
            "301   2021      4         1\n",
            "302   2021      4         2\n",
            "303   2021      5         0\n",
            "304   2021      5         1\n",
            "305   2021      5         2\n",
            "306   2021      6         0\n",
            "307   2021      6         1\n",
            "308   2021      6         2\n",
            "309   2021      7         0\n",
            "310   2021      7         1\n",
            "311   2021      7         2\n",
            "312   2021      8         0\n",
            "313   2021      8         1\n",
            "314   2021      8         2\n",
            "315   2021      9         0\n",
            "316   2021      9         1\n",
            "317   2021      9         2\n",
            "318   2021     10         0\n",
            "319   2021     10         1\n",
            "320   2021     10         2\n",
            "321   2021     11         0\n",
            "322   2021     11         1\n",
            "323   2021     11         2\n",
            "324   2022      0         0\n",
            "325   2022      0         1\n",
            "326   2022      0         2\n",
            "327   2022      1         0\n",
            "328   2022      1         1\n",
            "329   2022      1         2\n",
            "330   2022      2         0\n",
            "331   2022      2         1\n",
            "332   2022      2         2\n",
            "333   2022      3         0\n",
            "334   2022      3         1\n",
            "335   2022      3         2\n",
            "336   2022      4         0\n",
            "337   2022      4         1\n",
            "338   2022      4         2\n",
            "339   2022      5         0\n",
            "340   2022      5         1\n",
            "341   2022      5         2\n",
            "342   2022      6         0\n",
            "343   2022      6         1\n",
            "344   2022      6         2\n",
            "345   2022      7         0\n",
            "346   2022      7         1\n",
            "347   2022      7         2\n",
            "348   2022      8         0\n",
            "349   2022      8         1\n",
            "350   2022      8         2\n"
          ]
        }
      ]
    },
    {
      "cell_type": "code",
      "source": [
        "print(y_test)"
      ],
      "metadata": {
        "colab": {
          "base_uri": "https://localhost:8080/"
        },
        "id": "iFOIwBwvt9tV",
        "outputId": "16909326-2aee-4d18-e8fe-772e8f20532c"
      },
      "execution_count": 23,
      "outputs": [
        {
          "output_type": "stream",
          "name": "stdout",
          "text": [
            "        Harga\n",
            "300   9627.08\n",
            "301   8909.50\n",
            "302   8710.44\n",
            "303   9537.16\n",
            "304   8906.67\n",
            "305   8694.95\n",
            "306   9401.61\n",
            "307   8886.90\n",
            "308   8481.43\n",
            "309   9499.36\n",
            "310   8915.75\n",
            "311   8688.77\n",
            "312   9455.56\n",
            "313   8962.39\n",
            "314   8588.59\n",
            "315   9449.47\n",
            "316   9010.82\n",
            "317   8630.83\n",
            "318   9539.29\n",
            "319   9071.94\n",
            "320   8711.19\n",
            "321   9672.54\n",
            "322   9128.44\n",
            "323   8888.50\n",
            "324   9824.23\n",
            "325   9381.24\n",
            "326   9038.14\n",
            "327   9826.88\n",
            "328   9358.61\n",
            "329   9061.74\n",
            "330   9786.63\n",
            "331   9323.35\n",
            "332   9061.05\n",
            "333   9576.75\n",
            "334   9104.35\n",
            "335   8853.24\n",
            "336   9512.63\n",
            "337   9065.18\n",
            "338   8902.12\n",
            "339   9497.40\n",
            "340   9007.86\n",
            "341   8848.66\n",
            "342   9628.57\n",
            "343   9091.92\n",
            "344   8905.52\n",
            "345   9901.15\n",
            "346   9358.34\n",
            "347   9069.27\n",
            "348  10252.31\n",
            "349   9785.04\n",
            "350   9465.63\n"
          ]
        }
      ]
    },
    {
      "cell_type": "markdown",
      "source": [
        "## with Random Forest Regression"
      ],
      "metadata": {
        "id": "FLrG7DTQuDc-"
      }
    },
    {
      "cell_type": "code",
      "source": [
        "# Fitting Random Forest Regression to the dataset\n",
        "# import the regressor\n",
        "from sklearn.ensemble import RandomForestRegressor\n",
        "  \n",
        "# create regressor object\n",
        "regressor = RandomForestRegressor(n_estimators = 100, random_state = 0, criterion=\"absolute_error\", max_features=3)\n",
        "  \n",
        "# fit the regressor with x and y data\n",
        "regressor.fit(x.to_numpy(), y.values.ravel())  "
      ],
      "metadata": {
        "colab": {
          "base_uri": "https://localhost:8080/"
        },
        "id": "Vmky3HPzU2zp",
        "outputId": "b382213e-e461-43f0-8649-433f580d8587"
      },
      "execution_count": 24,
      "outputs": [
        {
          "output_type": "execute_result",
          "data": {
            "text/plain": [
              "RandomForestRegressor(criterion='absolute_error', max_features=3,\n",
              "                      random_state=0)"
            ]
          },
          "metadata": {},
          "execution_count": 24
        }
      ]
    },
    {
      "cell_type": "markdown",
      "source": [
        "test to train dataset"
      ],
      "metadata": {
        "id": "gGs02E9HdpGa"
      }
    },
    {
      "cell_type": "code",
      "source": [
        "Y_pred = regressor.predict(x.to_numpy())\n",
        "Y_pred"
      ],
      "metadata": {
        "colab": {
          "base_uri": "https://localhost:8080/"
        },
        "id": "Dt7nh6gCdq8W",
        "outputId": "5766ef4b-1840-47bd-f8b7-76cbc9d92578"
      },
      "execution_count": 27,
      "outputs": [
        {
          "output_type": "execute_result",
          "data": {
            "text/plain": [
              "array([ 7772.9353 ,  7669.10905,  7466.61905,  7746.3424 ,  7625.53435,\n",
              "        7366.75445,  7617.4552 ,  7494.77775,  7112.35035,  7463.0626 ,\n",
              "        7344.39455,  6942.56435,  7503.5291 ,  7322.91955,  6895.22155,\n",
              "        7553.6901 ,  7408.00405,  7074.08645,  7711.6558 ,  7540.5262 ,\n",
              "        7268.5853 ,  7736.0445 ,  7551.9144 ,  7393.8284 ,  7755.2343 ,\n",
              "        7631.1046 ,  7374.3046 ,  7821.7638 ,  7694.7293 ,  7432.7598 ,\n",
              "        7886.5709 ,  7743.505  ,  7569.1709 ,  7936.7688 ,  7847.8945 ,\n",
              "        7680.3778 ,  8210.89315,  8043.20275,  7941.09745,  8249.02335,\n",
              "        8098.16185,  8013.07245,  8182.92255,  8074.34645,  8022.74725,\n",
              "        8007.63485,  7893.43895,  7723.36675,  8012.38035,  7834.64905,\n",
              "        7678.40635,  8115.87435,  7837.43205,  7694.63535,  8192.15555,\n",
              "        7928.00825,  7664.32255,  8279.92795,  8024.47065,  7709.95925,\n",
              "        8302.33425,  8098.73055,  7635.94695,  8357.1873 ,  8145.0786 ,\n",
              "        7723.5884 ,  8503.8923 ,  8340.3441 ,  7995.7697 ,  8891.94   ,\n",
              "        8856.4792 ,  8426.1634 ,  9700.3532 ,  9551.8124 ,  9247.2717 ,\n",
              "        9733.3478 ,  9609.9171 ,  9182.052  ,  9494.2695 ,  9338.28235,\n",
              "        8944.7443 ,  9088.0862 ,  8893.72825,  8436.246  ,  8867.6346 ,\n",
              "        8663.52865,  8198.6823 ,  8974.6013 ,  8637.56655,  8187.6411 ,\n",
              "        9035.3184 ,  8670.42785,  8301.6437 ,  9159.0693 ,  8741.86545,\n",
              "        8565.1632 ,  9327.5717 ,  8911.96355,  8807.151  ,  9409.7935 ,\n",
              "        8982.03745,  8886.45545,  9525.1788 ,  9200.7845 ,  8999.2137 ,\n",
              "        9628.0658 ,  9328.2593 ,  9123.6073 ,  9712.3269 ,  9550.8179 ,\n",
              "        9262.5926 ,  9743.1929 ,  9606.2441 ,  9177.0897 ,  9542.5469 ,\n",
              "        9368.83495,  8964.2703 ,  9212.11   ,  8974.93155,  8539.9165 ,\n",
              "        9164.4097 ,  8882.82485,  8462.7891 ,  9307.9235 ,  8929.71965,\n",
              "        8510.9636 ,  9332.5251 ,  8920.32365,  8522.1876 ,  9353.5819 ,\n",
              "        8903.86415,  8540.2589 ,  9209.5224 ,  8949.62775,  8622.3573 ,\n",
              "        9208.744  ,  8981.17885,  8685.51685,  9296.6839 ,  9093.2801 ,\n",
              "        8774.2793 ,  9447.7882 ,  9210.231  ,  8867.7071 ,  9466.9609 ,\n",
              "        9096.8857 ,  8732.0678 ,  9450.4366 ,  9087.2145 ,  8670.4082 ,\n",
              "        9407.263  ,  8843.39165,  8496.4477 ,  9354.291  ,  8702.90585,\n",
              "        8344.483  ,  9399.4608 ,  8761.96935,  8359.9729 ,  9435.2684 ,\n",
              "        8790.92885,  8370.598  ,  9404.0751 ,  8771.52155,  8369.804  ,\n",
              "        9428.0084 ,  8818.69005,  8473.9967 ,  9452.6235 ,  8951.98645,\n",
              "        8680.8682 ,  9493.6938 ,  9068.40595,  8837.27095,  9539.959  ,\n",
              "        9237.6414 ,  8988.8763 ,  9753.3161 ,  9399.6781 ,  9169.8672 ,\n",
              "       10281.3643 , 10097.0418 ,  9785.0185 , 10279.9365 , 10079.7553 ,\n",
              "        9864.1655 ,  9892.2639 ,  9675.7835 ,  9566.2076 ,  9546.0844 ,\n",
              "        9244.3786 ,  9005.2224 ,  9517.3953 ,  9192.93315,  8988.88345,\n",
              "        9497.9843 ,  9163.35315,  8975.65915,  9516.3136 ,  9192.82935,\n",
              "        8988.72255,  9498.0586 ,  9189.74625,  8999.7477 ,  9572.2935 ,\n",
              "        9322.0981 ,  9127.0016 ,  9629.7692 ,  9444.4924 ,  9226.3103 ,\n",
              "        9732.2019 ,  9590.2134 ,  9344.9484 ,  9810.902  ,  9700.5468 ,\n",
              "        9387.6311 , 10090.229  ,  9894.4133 ,  9543.2208 , 10023.8813 ,\n",
              "        9830.061  ,  9538.2872 ,  9828.0052 ,  9570.7221 ,  9377.6486 ,\n",
              "        9514.6451 ,  9210.4711 ,  8968.37205,  9479.9572 ,  9166.01965,\n",
              "        8966.537  ,  9504.6005 ,  9171.00675,  8985.3568 ,  9529.1002 ,\n",
              "        9206.82735,  8955.6186 ,  9530.6276 ,  9211.35145,  9025.49475,\n",
              "        9591.7455 ,  9314.4373 ,  9124.6115 ,  9651.9606 ,  9422.1696 ,\n",
              "        9218.6191 ,  9726.6165 ,  9501.5796 ,  9254.7926 ,  9818.4826 ,\n",
              "        9558.4365 ,  9276.6445 , 10037.8385 ,  9838.6796 ,  9512.7239 ,\n",
              "       10046.0371 ,  9823.3823 ,  9516.2192 , 10013.902  ,  9729.6678 ,\n",
              "        9424.5635 ,  9935.8073 ,  9568.2125 ,  8991.62075,  9867.0078 ,\n",
              "        9509.2055 ,  8970.68695,  9885.5111 ,  9445.3208 ,  8945.27775,\n",
              "        9919.2208 ,  9358.3413 ,  8934.57285,  9932.7925 ,  9357.7985 ,\n",
              "        8992.03065,  9875.4573 ,  9385.3505 ,  9053.6878 ,  9825.8251 ,\n",
              "        9433.0756 ,  9121.5685 ,  9754.2271 ,  9414.581  ,  9120.907  ,\n",
              "        9784.6326 ,  9437.5342 ,  9127.9091 ,  9791.7666 ,  9411.8963 ,\n",
              "        9117.6666 ,  9792.602  ,  9408.8437 ,  9163.9477 ,  9653.1511 ,\n",
              "        9273.5413 ,  8924.9368 ,  9637.2127 ,  9172.5548 ,  8752.8905 ])"
            ]
          },
          "metadata": {},
          "execution_count": 27
        }
      ]
    },
    {
      "cell_type": "code",
      "source": [
        "from sklearn.metrics import mean_absolute_percentage_error\n",
        "print(mean_absolute_percentage_error(y.to_numpy(), Y_pred))"
      ],
      "metadata": {
        "colab": {
          "base_uri": "https://localhost:8080/"
        },
        "id": "-7xutf1wds5C",
        "outputId": "af97dbda-429e-4269-9f07-246b9deb50fa"
      },
      "execution_count": 28,
      "outputs": [
        {
          "output_type": "stream",
          "name": "stdout",
          "text": [
            "0.004568289636308643\n"
          ]
        }
      ]
    },
    {
      "cell_type": "markdown",
      "source": [
        "test to test dataset"
      ],
      "metadata": {
        "id": "FPvH6zQrdnUW"
      }
    },
    {
      "cell_type": "code",
      "source": [
        "Y_pred = regressor.predict(x_test.to_numpy())\n",
        "Y_pred"
      ],
      "metadata": {
        "colab": {
          "base_uri": "https://localhost:8080/"
        },
        "id": "Yx4Vki-DZ7-a",
        "outputId": "74d0f033-407f-4b09-9455-c0fcd831ca2f"
      },
      "execution_count": 29,
      "outputs": [
        {
          "output_type": "execute_result",
          "data": {
            "text/plain": [
              "array([9645.98  , 9200.0025, 8755.2806, 9666.4813, 9191.1999, 8748.4136,\n",
              "       9683.2601, 9169.9915, 8745.1347, 9690.9336, 9175.2288, 8780.4526,\n",
              "       9694.9664, 9290.835 , 8922.3807, 9693.4598, 9379.2835, 9058.3455,\n",
              "       9660.1192, 9373.9918, 9071.7083, 9683.9049, 9397.5883, 9079.6329,\n",
              "       9791.7666, 9411.8963, 9117.6666, 9792.602 , 9408.8437, 9163.9477,\n",
              "       9653.1511, 9273.5413, 8924.9368, 9637.2127, 9172.5548, 8752.8905,\n",
              "       9645.98  , 9200.0025, 8755.2806, 9666.4813, 9191.1999, 8748.4136,\n",
              "       9683.2601, 9169.9915, 8745.1347, 9690.9336, 9175.2288, 8780.4526,\n",
              "       9694.9664, 9290.835 , 8922.3807])"
            ]
          },
          "metadata": {},
          "execution_count": 29
        }
      ]
    },
    {
      "cell_type": "code",
      "source": [
        "from sklearn.metrics import mean_absolute_error\n",
        "print(mean_absolute_percentage_error(y_test.to_numpy(), Y_pred))"
      ],
      "metadata": {
        "colab": {
          "base_uri": "https://localhost:8080/"
        },
        "id": "OlLYpHoUaC2_",
        "outputId": "d01b9ec6-16ce-4400-99d0-ad5d2af17e95"
      },
      "execution_count": 30,
      "outputs": [
        {
          "output_type": "stream",
          "name": "stdout",
          "text": [
            "0.02073304071406128\n"
          ]
        }
      ]
    },
    {
      "cell_type": "markdown",
      "source": [
        "test to 1 data"
      ],
      "metadata": {
        "id": "o2ZVjKVWd02a"
      }
    },
    {
      "cell_type": "code",
      "source": [
        "Y_pred = regressor.predict([[2013,    4,    2]])\n",
        "print(Y_pred)"
      ],
      "metadata": {
        "colab": {
          "base_uri": "https://localhost:8080/"
        },
        "id": "HP2m1ZAlVetH",
        "outputId": "150a2fce-05fc-4c01-bff6-475515bb380a"
      },
      "execution_count": 31,
      "outputs": [
        {
          "output_type": "stream",
          "name": "stdout",
          "text": [
            "[6895.22155]\n"
          ]
        }
      ]
    },
    {
      "cell_type": "code",
      "source": [
        "from sklearn.metrics import mean_absolute_percentage_error\n",
        "print(mean_absolute_percentage_error(y.to_numpy()[0], Y_pred))\n"
      ],
      "metadata": {
        "colab": {
          "base_uri": "https://localhost:8080/"
        },
        "id": "tn9bsjZjYF8L",
        "outputId": "ef2d834e-90e2-4d5f-c991-b22bf1d3a9c8"
      },
      "execution_count": 32,
      "outputs": [
        {
          "output_type": "stream",
          "name": "stdout",
          "text": [
            "0.11572855470187793\n"
          ]
        }
      ]
    },
    {
      "cell_type": "markdown",
      "source": [
        "## with linear regression"
      ],
      "metadata": {
        "id": "MJu1bxAMd9vY"
      }
    },
    {
      "cell_type": "code",
      "source": [
        "from sklearn.linear_model import LinearRegression\n",
        " \n",
        "model_LR = LinearRegression()\n",
        "model_LR.fit(x.to_numpy(), y)\n"
      ],
      "metadata": {
        "colab": {
          "base_uri": "https://localhost:8080/"
        },
        "id": "jNx9ug78d_4A",
        "outputId": "6f5bf589-53b0-49c1-8a69-a16535cc7cfe"
      },
      "execution_count": 33,
      "outputs": [
        {
          "output_type": "execute_result",
          "data": {
            "text/plain": [
              "LinearRegression()"
            ]
          },
          "metadata": {},
          "execution_count": 33
        }
      ]
    },
    {
      "cell_type": "markdown",
      "source": [
        "test to test dataset"
      ],
      "metadata": {
        "id": "RZmk897cuL5i"
      }
    },
    {
      "cell_type": "code",
      "source": [
        "Y_pred = model_LR.predict(x_test.to_numpy())\n",
        "print(mean_absolute_percentage_error(y_test.to_numpy(), Y_pred))"
      ],
      "metadata": {
        "colab": {
          "base_uri": "https://localhost:8080/"
        },
        "id": "tyKcgvIBuNlb",
        "outputId": "cac4f7bb-8882-4c78-8d58-742e4faae418"
      },
      "execution_count": 34,
      "outputs": [
        {
          "output_type": "stream",
          "name": "stdout",
          "text": [
            "0.09435128166740835\n"
          ]
        }
      ]
    },
    {
      "cell_type": "markdown",
      "source": [
        "## with KNN"
      ],
      "metadata": {
        "id": "DpnuN0JQCcUz"
      }
    },
    {
      "cell_type": "code",
      "source": [
        "from sklearn.neighbors import KNeighborsRegressor\n",
        "neigh = KNeighborsRegressor()\n",
        "neigh.fit(x.to_numpy(), y)"
      ],
      "metadata": {
        "colab": {
          "base_uri": "https://localhost:8080/"
        },
        "id": "3KIMDsatCeZk",
        "outputId": "239cc33d-1154-4286-f6b9-d5091df618a3"
      },
      "execution_count": 35,
      "outputs": [
        {
          "output_type": "execute_result",
          "data": {
            "text/plain": [
              "KNeighborsRegressor()"
            ]
          },
          "metadata": {},
          "execution_count": 35
        }
      ]
    },
    {
      "cell_type": "markdown",
      "source": [
        "test to test dataset"
      ],
      "metadata": {
        "id": "fhnjxr1RDUpL"
      }
    },
    {
      "cell_type": "code",
      "source": [
        "Y_pred = neigh.predict(x_test.to_numpy())\n",
        "print(mean_absolute_percentage_error(y_test.to_numpy(), Y_pred))"
      ],
      "metadata": {
        "colab": {
          "base_uri": "https://localhost:8080/"
        },
        "id": "73BXkvlsC03H",
        "outputId": "59b5732f-f323-4b1c-a615-0c1b272f6ffe"
      },
      "execution_count": 36,
      "outputs": [
        {
          "output_type": "stream",
          "name": "stdout",
          "text": [
            "0.028702441488998965\n"
          ]
        }
      ]
    },
    {
      "cell_type": "markdown",
      "source": [
        "# Model yang dipilih adalah Random Forest Regression, karena memberikan skor MAPE yang paling baik"
      ],
      "metadata": {
        "id": "BxiHRqtsDWGm"
      }
    },
    {
      "cell_type": "markdown",
      "source": [
        "save model"
      ],
      "metadata": {
        "id": "Uk-6Sk0OjuZe"
      }
    },
    {
      "cell_type": "code",
      "source": [
        "import pickle\n",
        "# save to file model.pkl\n",
        "pickle.dump(regressor, open('model.pkl', 'wb'))"
      ],
      "metadata": {
        "id": "0FHK1HBCjt2W"
      },
      "execution_count": 25,
      "outputs": []
    },
    {
      "cell_type": "code",
      "source": [
        "# load model\n",
        "pickled_model = pickle.load(open('model.pkl', 'rb'))\n",
        "\n",
        "# test predict\n",
        "pickled_model.predict(x.to_numpy())"
      ],
      "metadata": {
        "id": "M9RCalg3kVQp"
      },
      "execution_count": null,
      "outputs": []
    }
  ],
  "metadata": {
    "colab": {
      "provenance": []
    },
    "kernelspec": {
      "display_name": "Python 3",
      "name": "python3"
    },
    "language_info": {
      "name": "python"
    }
  },
  "nbformat": 4,
  "nbformat_minor": 0
}