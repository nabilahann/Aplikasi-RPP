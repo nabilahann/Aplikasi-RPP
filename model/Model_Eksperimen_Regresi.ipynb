{
  "cells": [
    {
      "cell_type": "markdown",
      "source": [
        "# Eksperimen"
      ],
      "metadata": {
        "id": "cCUS1sGdSM6h"
      }
    },
    {
      "cell_type": "code",
      "source": [
        "# Importing the libraries\n",
        "import numpy as np\n",
        "import matplotlib.pyplot as plt\n",
        "import pandas as pd\n",
        "from sklearn.preprocessing import LabelEncoder"
      ],
      "metadata": {
        "id": "nIK_WCx2SOrq"
      },
      "execution_count": 80,
      "outputs": []
    },
    {
      "cell_type": "code",
      "source": [
        "# read data\n",
        "data = pd.read_csv('data_harga_beras.csv')\n",
        "print(data)"
      ],
      "metadata": {
        "colab": {
          "base_uri": "https://localhost:8080/"
        },
        "id": "A6txQDF_Shey",
        "outputId": "d83c37f6-66d1-46ce-acf6-cac55a70e21e"
      },
      "execution_count": 81,
      "outputs": [
        {
          "output_type": "stream",
          "name": "stdout",
          "text": [
            "     Tahun      Bulan       Kualitas     Harga\n",
            "0     2013    Januari        Premium   7797.63\n",
            "1     2013    Januari         Medium   7697.37\n",
            "2     2013    Januari  Luar Kualitas   7545.32\n",
            "3     2013   Februari        Premium   7773.26\n",
            "4     2013   Februari         Medium   7645.05\n",
            "..     ...        ...            ...       ...\n",
            "346   2022    Agustus         Medium   9358.34\n",
            "347   2022    Agustus  Luar Kualitas   9069.27\n",
            "348   2022  September        Premium  10252.31\n",
            "349   2022  September         Medium   9785.04\n",
            "350   2022  September  Luar Kualitas   9465.63\n",
            "\n",
            "[351 rows x 4 columns]\n"
          ]
        }
      ]
    },
    {
      "cell_type": "code",
      "source": [
        "# convert data bulan dan kualitas to numeric\n",
        "def convert_bulan(bulan):\n",
        "  try :\n",
        "    if(bulan == \"Januari\"):\n",
        "      return 0\n",
        "    elif(bulan == \"Februari\"):\n",
        "      return 1\n",
        "    elif(bulan == \"Maret\"):\n",
        "      return 2\n",
        "    elif(bulan == \"April\"):\n",
        "      return 3\n",
        "    elif(bulan == \"Mei\"):\n",
        "      return 4\n",
        "    elif(bulan == \"Juni\"):\n",
        "      return 5\n",
        "    elif(bulan == \"Juli\"):\n",
        "      return 6\n",
        "    elif(bulan == \"Agustus\"):\n",
        "      return 7\n",
        "    elif(bulan == \"September\"):\n",
        "      return 8\n",
        "    elif(bulan == \"Oktober\"):\n",
        "      return 9\n",
        "    elif(bulan == \"November\"):\n",
        "      return 10\n",
        "    elif(bulan == \"Desember\"):\n",
        "      return 11\n",
        "    else : \n",
        "      raise \n",
        "\n",
        "  except :\n",
        "    print(\"Gagal mengkonversi bulan\")\n",
        "    return -1\n",
        "\n",
        "\n",
        "def convert_kualitas(kualitas):\n",
        "  try :\n",
        "    if(kualitas == \"Premium\"):\n",
        "      return 0\n",
        "    elif(kualitas == \"Medium\"):\n",
        "      return 1\n",
        "    elif(kualitas == \"Luar Kualitas\"):\n",
        "      return 2\n",
        "    else : \n",
        "      raise \n",
        "\n",
        "  except :\n",
        "    print(\"Gagal mengkonversi kualitas\")\n",
        "    return -1\n",
        "\n",
        "\n",
        "data[\"Bulan\"] = data[\"Bulan\"].apply(convert_bulan)\n",
        "data[\"Kualitas\"] = data[\"Kualitas\"].apply(convert_kualitas)"
      ],
      "metadata": {
        "id": "gas7RLeTfHnx"
      },
      "execution_count": 82,
      "outputs": []
    },
    {
      "cell_type": "code",
      "source": [
        "# training data\n",
        "x = data.iloc [:300, : -1]\n",
        "y = data.iloc [:300, -1 :]"
      ],
      "metadata": {
        "id": "K3_MnKL_SuxC"
      },
      "execution_count": 83,
      "outputs": []
    },
    {
      "cell_type": "code",
      "source": [
        "print(x.to_numpy())"
      ],
      "metadata": {
        "colab": {
          "base_uri": "https://localhost:8080/"
        },
        "id": "RiiF-E7mTVCx",
        "outputId": "4253bc6c-3aa2-4047-cbb4-800f4b7655f0"
      },
      "execution_count": 84,
      "outputs": [
        {
          "output_type": "stream",
          "name": "stdout",
          "text": [
            "[[2013    0    0]\n",
            " [2013    0    1]\n",
            " [2013    0    2]\n",
            " [2013    1    0]\n",
            " [2013    1    1]\n",
            " [2013    1    2]\n",
            " [2013    2    0]\n",
            " [2013    2    1]\n",
            " [2013    2    2]\n",
            " [2013    3    0]\n",
            " [2013    3    1]\n",
            " [2013    3    2]\n",
            " [2013    4    0]\n",
            " [2013    4    1]\n",
            " [2013    4    2]\n",
            " [2013    5    0]\n",
            " [2013    5    1]\n",
            " [2013    5    2]\n",
            " [2013    6    0]\n",
            " [2013    6    1]\n",
            " [2013    6    2]\n",
            " [2013    7    0]\n",
            " [2013    7    1]\n",
            " [2013    7    2]\n",
            " [2013    8    0]\n",
            " [2013    8    1]\n",
            " [2013    8    2]\n",
            " [2013    9    0]\n",
            " [2013    9    1]\n",
            " [2013    9    2]\n",
            " [2013   10    0]\n",
            " [2013   10    1]\n",
            " [2013   10    2]\n",
            " [2013   11    0]\n",
            " [2013   11    1]\n",
            " [2013   11    2]\n",
            " [2014    0    0]\n",
            " [2014    0    1]\n",
            " [2014    0    2]\n",
            " [2014    1    0]\n",
            " [2014    1    1]\n",
            " [2014    1    2]\n",
            " [2014    2    0]\n",
            " [2014    2    1]\n",
            " [2014    2    2]\n",
            " [2014    3    0]\n",
            " [2014    3    1]\n",
            " [2014    3    2]\n",
            " [2014    4    0]\n",
            " [2014    4    1]\n",
            " [2014    4    2]\n",
            " [2014    5    0]\n",
            " [2014    5    1]\n",
            " [2014    5    2]\n",
            " [2014    6    0]\n",
            " [2014    6    1]\n",
            " [2014    6    2]\n",
            " [2014    7    0]\n",
            " [2014    7    1]\n",
            " [2014    7    2]\n",
            " [2014    8    0]\n",
            " [2014    8    1]\n",
            " [2014    8    2]\n",
            " [2014    9    0]\n",
            " [2014    9    1]\n",
            " [2014    9    2]\n",
            " [2014   10    0]\n",
            " [2014   10    1]\n",
            " [2014   10    2]\n",
            " [2014   11    0]\n",
            " [2014   11    1]\n",
            " [2014   11    2]\n",
            " [2015    0    0]\n",
            " [2015    0    1]\n",
            " [2015    0    2]\n",
            " [2015    1    0]\n",
            " [2015    1    1]\n",
            " [2015    1    2]\n",
            " [2015    2    0]\n",
            " [2015    2    1]\n",
            " [2015    2    2]\n",
            " [2015    3    0]\n",
            " [2015    3    1]\n",
            " [2015    3    2]\n",
            " [2015    4    0]\n",
            " [2015    4    1]\n",
            " [2015    4    2]\n",
            " [2015    5    0]\n",
            " [2015    5    1]\n",
            " [2015    5    2]\n",
            " [2015    6    0]\n",
            " [2015    6    1]\n",
            " [2015    6    2]\n",
            " [2015    7    0]\n",
            " [2015    7    1]\n",
            " [2015    7    2]\n",
            " [2015    8    0]\n",
            " [2015    8    1]\n",
            " [2015    8    2]\n",
            " [2015    9    0]\n",
            " [2015    9    1]\n",
            " [2015    9    2]\n",
            " [2015   10    0]\n",
            " [2015   10    1]\n",
            " [2015   10    2]\n",
            " [2015   11    0]\n",
            " [2015   11    1]\n",
            " [2015   11    2]\n",
            " [2016    0    0]\n",
            " [2016    0    1]\n",
            " [2016    0    2]\n",
            " [2016    1    0]\n",
            " [2016    1    1]\n",
            " [2016    1    2]\n",
            " [2016    2    0]\n",
            " [2016    2    1]\n",
            " [2016    2    2]\n",
            " [2016    3    0]\n",
            " [2016    3    1]\n",
            " [2016    3    2]\n",
            " [2016    4    0]\n",
            " [2016    4    1]\n",
            " [2016    4    2]\n",
            " [2016    5    0]\n",
            " [2016    5    1]\n",
            " [2016    5    2]\n",
            " [2016    6    0]\n",
            " [2016    6    1]\n",
            " [2016    6    2]\n",
            " [2016    7    0]\n",
            " [2016    7    1]\n",
            " [2016    7    2]\n",
            " [2016    8    0]\n",
            " [2016    8    1]\n",
            " [2016    8    2]\n",
            " [2016    9    0]\n",
            " [2016    9    1]\n",
            " [2016    9    2]\n",
            " [2016   10    0]\n",
            " [2016   10    1]\n",
            " [2016   10    2]\n",
            " [2016   11    0]\n",
            " [2016   11    1]\n",
            " [2016   11    2]\n",
            " [2017    0    0]\n",
            " [2017    0    1]\n",
            " [2017    0    2]\n",
            " [2017    1    0]\n",
            " [2017    1    1]\n",
            " [2017    1    2]\n",
            " [2017    2    0]\n",
            " [2017    2    1]\n",
            " [2017    2    2]\n",
            " [2017    3    0]\n",
            " [2017    3    1]\n",
            " [2017    3    2]\n",
            " [2017    4    0]\n",
            " [2017    4    1]\n",
            " [2017    4    2]\n",
            " [2017    5    0]\n",
            " [2017    5    1]\n",
            " [2017    5    2]\n",
            " [2017    6    0]\n",
            " [2017    6    1]\n",
            " [2017    6    2]\n",
            " [2017    7    0]\n",
            " [2017    7    1]\n",
            " [2017    7    2]\n",
            " [2017    8    0]\n",
            " [2017    8    1]\n",
            " [2017    8    2]\n",
            " [2017    9    0]\n",
            " [2017    9    1]\n",
            " [2017    9    2]\n",
            " [2017   10    0]\n",
            " [2017   10    1]\n",
            " [2017   10    2]\n",
            " [2017   11    0]\n",
            " [2017   11    1]\n",
            " [2017   11    2]\n",
            " [2018    0    0]\n",
            " [2018    0    1]\n",
            " [2018    0    2]\n",
            " [2018    1    0]\n",
            " [2018    1    1]\n",
            " [2018    1    2]\n",
            " [2018    2    0]\n",
            " [2018    2    1]\n",
            " [2018    2    2]\n",
            " [2018    3    0]\n",
            " [2018    3    1]\n",
            " [2018    3    2]\n",
            " [2018    4    0]\n",
            " [2018    4    1]\n",
            " [2018    4    2]\n",
            " [2018    5    0]\n",
            " [2018    5    1]\n",
            " [2018    5    2]\n",
            " [2018    6    0]\n",
            " [2018    6    1]\n",
            " [2018    6    2]\n",
            " [2018    7    0]\n",
            " [2018    7    1]\n",
            " [2018    7    2]\n",
            " [2018    8    0]\n",
            " [2018    8    1]\n",
            " [2018    8    2]\n",
            " [2018    9    0]\n",
            " [2018    9    1]\n",
            " [2018    9    2]\n",
            " [2018   10    0]\n",
            " [2018   10    1]\n",
            " [2018   10    2]\n",
            " [2018   11    0]\n",
            " [2018   11    1]\n",
            " [2018   11    2]\n",
            " [2019    0    0]\n",
            " [2019    0    1]\n",
            " [2019    0    2]\n",
            " [2019    1    0]\n",
            " [2019    1    1]\n",
            " [2019    1    2]\n",
            " [2019    2    0]\n",
            " [2019    2    1]\n",
            " [2019    2    2]\n",
            " [2019    3    0]\n",
            " [2019    3    1]\n",
            " [2019    3    2]\n",
            " [2019    4    0]\n",
            " [2019    4    1]\n",
            " [2019    4    2]\n",
            " [2019    5    0]\n",
            " [2019    5    1]\n",
            " [2019    5    2]\n",
            " [2019    6    0]\n",
            " [2019    6    1]\n",
            " [2019    6    2]\n",
            " [2019    7    0]\n",
            " [2019    7    1]\n",
            " [2019    7    2]\n",
            " [2019    8    0]\n",
            " [2019    8    1]\n",
            " [2019    8    2]\n",
            " [2019    9    0]\n",
            " [2019    9    1]\n",
            " [2019    9    2]\n",
            " [2019   10    0]\n",
            " [2019   10    1]\n",
            " [2019   10    2]\n",
            " [2019   11    0]\n",
            " [2019   11    1]\n",
            " [2019   11    2]\n",
            " [2020    0    0]\n",
            " [2020    0    1]\n",
            " [2020    0    2]\n",
            " [2020    1    0]\n",
            " [2020    1    1]\n",
            " [2020    1    2]\n",
            " [2020    2    0]\n",
            " [2020    2    1]\n",
            " [2020    2    2]\n",
            " [2020    3    0]\n",
            " [2020    3    1]\n",
            " [2020    3    2]\n",
            " [2020    4    0]\n",
            " [2020    4    1]\n",
            " [2020    4    2]\n",
            " [2020    5    0]\n",
            " [2020    5    1]\n",
            " [2020    5    2]\n",
            " [2020    6    0]\n",
            " [2020    6    1]\n",
            " [2020    6    2]\n",
            " [2020    7    0]\n",
            " [2020    7    1]\n",
            " [2020    7    2]\n",
            " [2020    8    0]\n",
            " [2020    8    1]\n",
            " [2020    8    2]\n",
            " [2020    9    0]\n",
            " [2020    9    1]\n",
            " [2020    9    2]\n",
            " [2020   10    0]\n",
            " [2020   10    1]\n",
            " [2020   10    2]\n",
            " [2020   11    0]\n",
            " [2020   11    1]\n",
            " [2020   11    2]\n",
            " [2021    0    0]\n",
            " [2021    0    1]\n",
            " [2021    0    2]\n",
            " [2021    1    0]\n",
            " [2021    1    1]\n",
            " [2021    1    2]\n",
            " [2021    2    0]\n",
            " [2021    2    1]\n",
            " [2021    2    2]\n",
            " [2021    3    0]\n",
            " [2021    3    1]\n",
            " [2021    3    2]]\n"
          ]
        }
      ]
    },
    {
      "cell_type": "code",
      "source": [
        "print(y)"
      ],
      "metadata": {
        "colab": {
          "base_uri": "https://localhost:8080/"
        },
        "id": "0RayghxPTVPL",
        "outputId": "e85e3069-0454-4ca1-9f2c-c140772ac375"
      },
      "execution_count": 85,
      "outputs": [
        {
          "output_type": "stream",
          "name": "stdout",
          "text": [
            "       Harga\n",
            "0    7797.63\n",
            "1    7697.37\n",
            "2    7545.32\n",
            "3    7773.26\n",
            "4    7645.05\n",
            "..       ...\n",
            "295  9153.68\n",
            "296  8741.80\n",
            "297  9549.76\n",
            "298  8978.86\n",
            "299  8675.23\n",
            "\n",
            "[300 rows x 1 columns]\n"
          ]
        }
      ]
    },
    {
      "cell_type": "code",
      "source": [
        "# test data\n",
        "x_test = data.iloc [300:, : -1]\n",
        "y_test = data.iloc[300:, -1 :]"
      ],
      "metadata": {
        "id": "KPIWX-V6ZgPa"
      },
      "execution_count": 86,
      "outputs": []
    },
    {
      "cell_type": "code",
      "source": [
        "print(x_test)"
      ],
      "metadata": {
        "colab": {
          "base_uri": "https://localhost:8080/"
        },
        "id": "huElCKuvZja-",
        "outputId": "003317bc-0981-4051-9286-7ba7d655a389"
      },
      "execution_count": 87,
      "outputs": [
        {
          "output_type": "stream",
          "name": "stdout",
          "text": [
            "     Tahun  Bulan  Kualitas\n",
            "300   2021      4         0\n",
            "301   2021      4         1\n",
            "302   2021      4         2\n",
            "303   2021      5         0\n",
            "304   2021      5         1\n",
            "305   2021      5         2\n",
            "306   2021      6         0\n",
            "307   2021      6         1\n",
            "308   2021      6         2\n",
            "309   2021      7         0\n",
            "310   2021      7         1\n",
            "311   2021      7         2\n",
            "312   2021      8         0\n",
            "313   2021      8         1\n",
            "314   2021      8         2\n",
            "315   2021      9         0\n",
            "316   2021      9         1\n",
            "317   2021      9         2\n",
            "318   2021     10         0\n",
            "319   2021     10         1\n",
            "320   2021     10         2\n",
            "321   2021     11         0\n",
            "322   2021     11         1\n",
            "323   2021     11         2\n",
            "324   2022      0         0\n",
            "325   2022      0         1\n",
            "326   2022      0         2\n",
            "327   2022      1         0\n",
            "328   2022      1         1\n",
            "329   2022      1         2\n",
            "330   2022      2         0\n",
            "331   2022      2         1\n",
            "332   2022      2         2\n",
            "333   2022      3         0\n",
            "334   2022      3         1\n",
            "335   2022      3         2\n",
            "336   2022      4         0\n",
            "337   2022      4         1\n",
            "338   2022      4         2\n",
            "339   2022      5         0\n",
            "340   2022      5         1\n",
            "341   2022      5         2\n",
            "342   2022      6         0\n",
            "343   2022      6         1\n",
            "344   2022      6         2\n",
            "345   2022      7         0\n",
            "346   2022      7         1\n",
            "347   2022      7         2\n",
            "348   2022      8         0\n",
            "349   2022      8         1\n",
            "350   2022      8         2\n"
          ]
        }
      ]
    },
    {
      "cell_type": "code",
      "source": [
        "print(y_test)"
      ],
      "metadata": {
        "colab": {
          "base_uri": "https://localhost:8080/"
        },
        "id": "iFOIwBwvt9tV",
        "outputId": "ac269cd3-a31c-4bb2-f431-ba9a36fd3456"
      },
      "execution_count": 88,
      "outputs": [
        {
          "output_type": "stream",
          "name": "stdout",
          "text": [
            "        Harga\n",
            "300   9627.08\n",
            "301   8909.50\n",
            "302   8710.44\n",
            "303   9537.16\n",
            "304   8906.67\n",
            "305   8694.95\n",
            "306   9401.61\n",
            "307   8886.90\n",
            "308   8481.43\n",
            "309   9499.36\n",
            "310   8915.75\n",
            "311   8688.77\n",
            "312   9455.56\n",
            "313   8962.39\n",
            "314   8588.59\n",
            "315   9449.47\n",
            "316   9010.82\n",
            "317   8630.83\n",
            "318   9539.29\n",
            "319   9071.94\n",
            "320   8711.19\n",
            "321   9672.54\n",
            "322   9128.44\n",
            "323   8888.50\n",
            "324   9824.23\n",
            "325   9381.24\n",
            "326   9038.14\n",
            "327   9826.88\n",
            "328   9358.61\n",
            "329   9061.74\n",
            "330   9786.63\n",
            "331   9323.35\n",
            "332   9061.05\n",
            "333   9576.75\n",
            "334   9104.35\n",
            "335   8853.24\n",
            "336   9512.63\n",
            "337   9065.18\n",
            "338   8902.12\n",
            "339   9497.40\n",
            "340   9007.86\n",
            "341   8848.66\n",
            "342   9628.57\n",
            "343   9091.92\n",
            "344   8905.52\n",
            "345   9901.15\n",
            "346   9358.34\n",
            "347   9069.27\n",
            "348  10252.31\n",
            "349   9785.04\n",
            "350   9465.63\n"
          ]
        }
      ]
    },
    {
      "cell_type": "markdown",
      "source": [
        "## with Random Forest Regression"
      ],
      "metadata": {
        "id": "FLrG7DTQuDc-"
      }
    },
    {
      "cell_type": "code",
      "source": [
        "# Fitting Random Forest Regression to the dataset\n",
        "# import the regressor\n",
        "from sklearn.ensemble import RandomForestRegressor\n",
        "  \n",
        "# create regressor object\n",
        "regressor = RandomForestRegressor(n_estimators = 100, random_state = 0, criterion=\"absolute_error\", max_features=3)\n",
        "  \n",
        "# fit the regressor with x and y data\n",
        "regressor.fit(x.to_numpy(), y.values.ravel())  "
      ],
      "metadata": {
        "colab": {
          "base_uri": "https://localhost:8080/"
        },
        "id": "Vmky3HPzU2zp",
        "outputId": "37356126-8275-4249-dcd1-2841e3ff5cc6"
      },
      "execution_count": 89,
      "outputs": [
        {
          "output_type": "execute_result",
          "data": {
            "text/plain": [
              "RandomForestRegressor(criterion='absolute_error', max_features=3,\n",
              "                      random_state=0)"
            ]
          },
          "metadata": {},
          "execution_count": 89
        }
      ]
    },
    {
      "cell_type": "markdown",
      "source": [
        "test to train dataset"
      ],
      "metadata": {
        "id": "gGs02E9HdpGa"
      }
    },
    {
      "cell_type": "code",
      "source": [
        "Y_pred = regressor.predict(x.to_numpy())\n",
        "Y_pred"
      ],
      "metadata": {
        "colab": {
          "base_uri": "https://localhost:8080/"
        },
        "id": "Dt7nh6gCdq8W",
        "outputId": "4c2da79f-0ff9-408f-a33b-79911ff78a80"
      },
      "execution_count": 90,
      "outputs": [
        {
          "output_type": "execute_result",
          "data": {
            "text/plain": [
              "array([ 7772.9353 ,  7669.10905,  7466.61905,  7746.3424 ,  7625.53435,\n",
              "        7366.75445,  7617.4552 ,  7494.77775,  7112.35035,  7463.0626 ,\n",
              "        7344.39455,  6942.56435,  7503.5291 ,  7322.91955,  6895.22155,\n",
              "        7553.6901 ,  7408.00405,  7074.08645,  7711.6558 ,  7540.5262 ,\n",
              "        7268.5853 ,  7736.0445 ,  7551.9144 ,  7393.8284 ,  7755.2343 ,\n",
              "        7631.1046 ,  7374.3046 ,  7821.7638 ,  7694.7293 ,  7432.7598 ,\n",
              "        7886.5709 ,  7743.505  ,  7569.1709 ,  7936.7688 ,  7847.8945 ,\n",
              "        7680.3778 ,  8210.89315,  8043.20275,  7941.09745,  8249.02335,\n",
              "        8098.16185,  8013.07245,  8182.92255,  8074.34645,  8022.74725,\n",
              "        8007.63485,  7893.43895,  7723.36675,  8012.38035,  7834.64905,\n",
              "        7678.40635,  8115.87435,  7837.43205,  7694.63535,  8192.15555,\n",
              "        7928.00825,  7664.32255,  8279.92795,  8024.47065,  7709.95925,\n",
              "        8302.33425,  8098.73055,  7635.94695,  8357.1873 ,  8145.0786 ,\n",
              "        7723.5884 ,  8503.8923 ,  8340.3441 ,  7995.7697 ,  8891.94   ,\n",
              "        8856.4792 ,  8426.1634 ,  9700.3532 ,  9551.8124 ,  9247.2717 ,\n",
              "        9733.3478 ,  9609.9171 ,  9182.052  ,  9494.2695 ,  9338.28235,\n",
              "        8944.7443 ,  9088.0862 ,  8893.72825,  8436.246  ,  8867.6346 ,\n",
              "        8663.52865,  8198.6823 ,  8974.6013 ,  8637.56655,  8187.6411 ,\n",
              "        9035.3184 ,  8670.42785,  8301.6437 ,  9159.0693 ,  8741.86545,\n",
              "        8565.1632 ,  9327.5717 ,  8911.96355,  8807.151  ,  9409.7935 ,\n",
              "        8982.03745,  8886.45545,  9525.1788 ,  9200.7845 ,  8999.2137 ,\n",
              "        9628.0658 ,  9328.2593 ,  9123.6073 ,  9712.3269 ,  9550.8179 ,\n",
              "        9262.5926 ,  9743.1929 ,  9606.2441 ,  9177.0897 ,  9542.5469 ,\n",
              "        9368.83495,  8964.2703 ,  9212.11   ,  8974.93155,  8539.9165 ,\n",
              "        9164.4097 ,  8882.82485,  8462.7891 ,  9307.9235 ,  8929.71965,\n",
              "        8510.9636 ,  9332.5251 ,  8920.32365,  8522.1876 ,  9353.5819 ,\n",
              "        8903.86415,  8540.2589 ,  9209.5224 ,  8949.62775,  8622.3573 ,\n",
              "        9208.744  ,  8981.17885,  8685.51685,  9296.6839 ,  9093.2801 ,\n",
              "        8774.2793 ,  9447.7882 ,  9210.231  ,  8867.7071 ,  9466.9609 ,\n",
              "        9096.8857 ,  8732.0678 ,  9450.4366 ,  9087.2145 ,  8670.4082 ,\n",
              "        9407.263  ,  8843.39165,  8496.4477 ,  9354.291  ,  8702.90585,\n",
              "        8344.483  ,  9399.4608 ,  8761.96935,  8359.9729 ,  9435.2684 ,\n",
              "        8790.92885,  8370.598  ,  9404.0751 ,  8771.52155,  8369.804  ,\n",
              "        9428.0084 ,  8818.69005,  8473.9967 ,  9452.6235 ,  8951.98645,\n",
              "        8680.8682 ,  9493.6938 ,  9068.40595,  8837.27095,  9539.959  ,\n",
              "        9237.6414 ,  8988.8763 ,  9753.3161 ,  9399.6781 ,  9169.8672 ,\n",
              "       10281.3643 , 10097.0418 ,  9785.0185 , 10279.9365 , 10079.7553 ,\n",
              "        9864.1655 ,  9892.2639 ,  9675.7835 ,  9566.2076 ,  9546.0844 ,\n",
              "        9244.3786 ,  9005.2224 ,  9517.3953 ,  9192.93315,  8988.88345,\n",
              "        9497.9843 ,  9163.35315,  8975.65915,  9516.3136 ,  9192.82935,\n",
              "        8988.72255,  9498.0586 ,  9189.74625,  8999.7477 ,  9572.2935 ,\n",
              "        9322.0981 ,  9127.0016 ,  9629.7692 ,  9444.4924 ,  9226.3103 ,\n",
              "        9732.2019 ,  9590.2134 ,  9344.9484 ,  9810.902  ,  9700.5468 ,\n",
              "        9387.6311 , 10090.229  ,  9894.4133 ,  9543.2208 , 10023.8813 ,\n",
              "        9830.061  ,  9538.2872 ,  9828.0052 ,  9570.7221 ,  9377.6486 ,\n",
              "        9514.6451 ,  9210.4711 ,  8968.37205,  9479.9572 ,  9166.01965,\n",
              "        8966.537  ,  9504.6005 ,  9171.00675,  8985.3568 ,  9529.1002 ,\n",
              "        9206.82735,  8955.6186 ,  9530.6276 ,  9211.35145,  9025.49475,\n",
              "        9591.7455 ,  9314.4373 ,  9124.6115 ,  9651.9606 ,  9422.1696 ,\n",
              "        9218.6191 ,  9726.6165 ,  9501.5796 ,  9254.7926 ,  9818.4826 ,\n",
              "        9558.4365 ,  9276.6445 , 10037.8385 ,  9838.6796 ,  9512.7239 ,\n",
              "       10046.0371 ,  9823.3823 ,  9516.2192 , 10013.902  ,  9729.6678 ,\n",
              "        9424.5635 ,  9935.8073 ,  9568.2125 ,  8991.62075,  9867.0078 ,\n",
              "        9509.2055 ,  8970.68695,  9885.5111 ,  9445.3208 ,  8945.27775,\n",
              "        9919.2208 ,  9358.3413 ,  8934.57285,  9932.7925 ,  9357.7985 ,\n",
              "        8992.03065,  9875.4573 ,  9385.3505 ,  9053.6878 ,  9825.8251 ,\n",
              "        9433.0756 ,  9121.5685 ,  9754.2271 ,  9414.581  ,  9120.907  ,\n",
              "        9784.6326 ,  9437.5342 ,  9127.9091 ,  9791.7666 ,  9411.8963 ,\n",
              "        9117.6666 ,  9792.602  ,  9408.8437 ,  9163.9477 ,  9653.1511 ,\n",
              "        9273.5413 ,  8924.9368 ,  9637.2127 ,  9172.5548 ,  8752.8905 ])"
            ]
          },
          "metadata": {},
          "execution_count": 90
        }
      ]
    },
    {
      "cell_type": "code",
      "source": [
        "from sklearn.metrics import mean_absolute_percentage_error\n",
        "print(mean_absolute_percentage_error(y.to_numpy(), Y_pred))"
      ],
      "metadata": {
        "colab": {
          "base_uri": "https://localhost:8080/"
        },
        "id": "-7xutf1wds5C",
        "outputId": "8c23761b-91c6-486c-fa9d-d8b83d810720"
      },
      "execution_count": 91,
      "outputs": [
        {
          "output_type": "stream",
          "name": "stdout",
          "text": [
            "0.004568289636308643\n"
          ]
        }
      ]
    },
    {
      "cell_type": "markdown",
      "source": [
        "test to test dataset"
      ],
      "metadata": {
        "id": "FPvH6zQrdnUW"
      }
    },
    {
      "cell_type": "code",
      "source": [
        "Y_pred = regressor.predict(x_test.to_numpy())\n",
        "Y_pred"
      ],
      "metadata": {
        "colab": {
          "base_uri": "https://localhost:8080/"
        },
        "id": "Yx4Vki-DZ7-a",
        "outputId": "0d9159f3-8b65-42a3-ac92-53996d91d0fe"
      },
      "execution_count": 92,
      "outputs": [
        {
          "output_type": "execute_result",
          "data": {
            "text/plain": [
              "array([9645.98  , 9200.0025, 8755.2806, 9666.4813, 9191.1999, 8748.4136,\n",
              "       9683.2601, 9169.9915, 8745.1347, 9690.9336, 9175.2288, 8780.4526,\n",
              "       9694.9664, 9290.835 , 8922.3807, 9693.4598, 9379.2835, 9058.3455,\n",
              "       9660.1192, 9373.9918, 9071.7083, 9683.9049, 9397.5883, 9079.6329,\n",
              "       9791.7666, 9411.8963, 9117.6666, 9792.602 , 9408.8437, 9163.9477,\n",
              "       9653.1511, 9273.5413, 8924.9368, 9637.2127, 9172.5548, 8752.8905,\n",
              "       9645.98  , 9200.0025, 8755.2806, 9666.4813, 9191.1999, 8748.4136,\n",
              "       9683.2601, 9169.9915, 8745.1347, 9690.9336, 9175.2288, 8780.4526,\n",
              "       9694.9664, 9290.835 , 8922.3807])"
            ]
          },
          "metadata": {},
          "execution_count": 92
        }
      ]
    },
    {
      "cell_type": "code",
      "source": [
        "from sklearn.metrics import mean_absolute_error\n",
        "print(mean_absolute_percentage_error(y_test.to_numpy(), Y_pred))"
      ],
      "metadata": {
        "colab": {
          "base_uri": "https://localhost:8080/"
        },
        "id": "OlLYpHoUaC2_",
        "outputId": "021a62d3-69db-4c87-bab7-3d3c60d9428b"
      },
      "execution_count": 93,
      "outputs": [
        {
          "output_type": "stream",
          "name": "stdout",
          "text": [
            "0.02073304071406128\n"
          ]
        }
      ]
    },
    {
      "cell_type": "markdown",
      "source": [
        "test to 1 data"
      ],
      "metadata": {
        "id": "o2ZVjKVWd02a"
      }
    },
    {
      "cell_type": "code",
      "source": [
        "Y_pred = regressor.predict([[2025,    1,    0]])\n",
        "print(Y_pred)"
      ],
      "metadata": {
        "colab": {
          "base_uri": "https://localhost:8080/"
        },
        "id": "HP2m1ZAlVetH",
        "outputId": "882f1f32-69e4-4685-8110-867eb348183c"
      },
      "execution_count": 94,
      "outputs": [
        {
          "output_type": "stream",
          "name": "stdout",
          "text": [
            "[9792.602]\n"
          ]
        }
      ]
    },
    {
      "cell_type": "code",
      "source": [
        "from sklearn.metrics import mean_absolute_percentage_error\n",
        "print(mean_absolute_percentage_error(y.to_numpy()[0], Y_pred))\n"
      ],
      "metadata": {
        "colab": {
          "base_uri": "https://localhost:8080/"
        },
        "id": "tn9bsjZjYF8L",
        "outputId": "abd21407-58bf-4eae-c788-3a502c8d1e61"
      },
      "execution_count": 95,
      "outputs": [
        {
          "output_type": "stream",
          "name": "stdout",
          "text": [
            "0.2558433780520474\n"
          ]
        }
      ]
    },
    {
      "cell_type": "markdown",
      "source": [
        "## with linear regression"
      ],
      "metadata": {
        "id": "MJu1bxAMd9vY"
      }
    },
    {
      "cell_type": "code",
      "source": [
        "from sklearn.linear_model import LinearRegression\n",
        " \n",
        "model_LR = LinearRegression()\n",
        "model_LR.fit(x.to_numpy(), y)\n"
      ],
      "metadata": {
        "colab": {
          "base_uri": "https://localhost:8080/"
        },
        "id": "jNx9ug78d_4A",
        "outputId": "d6da9c87-6c2a-41c0-c622-2d11d807e5e9"
      },
      "execution_count": 96,
      "outputs": [
        {
          "output_type": "execute_result",
          "data": {
            "text/plain": [
              "LinearRegression()"
            ]
          },
          "metadata": {},
          "execution_count": 96
        }
      ]
    },
    {
      "cell_type": "markdown",
      "source": [
        "test to train data"
      ],
      "metadata": {
        "id": "a37uwhxiI_YF"
      }
    },
    {
      "cell_type": "code",
      "source": [
        "Y_pred = model_LR.predict(x.to_numpy())\n",
        "print(mean_absolute_percentage_error(y.to_numpy(), Y_pred))"
      ],
      "metadata": {
        "colab": {
          "base_uri": "https://localhost:8080/"
        },
        "id": "tigRpY18JBBF",
        "outputId": "9da00a8d-98a0-410c-c8f6-ac000f6eff88"
      },
      "execution_count": 97,
      "outputs": [
        {
          "output_type": "stream",
          "name": "stdout",
          "text": [
            "0.03879950316767085\n"
          ]
        }
      ]
    },
    {
      "cell_type": "markdown",
      "source": [
        "test to test dataset"
      ],
      "metadata": {
        "id": "RZmk897cuL5i"
      }
    },
    {
      "cell_type": "code",
      "source": [
        "Y_pred = model_LR.predict(x_test.to_numpy())\n",
        "print(mean_absolute_percentage_error(y_test.to_numpy(), Y_pred))"
      ],
      "metadata": {
        "colab": {
          "base_uri": "https://localhost:8080/"
        },
        "id": "tyKcgvIBuNlb",
        "outputId": "5bee1165-ab31-4e3b-b5c2-1983039d70d3"
      },
      "execution_count": 98,
      "outputs": [
        {
          "output_type": "stream",
          "name": "stdout",
          "text": [
            "0.09435128166740835\n"
          ]
        }
      ]
    },
    {
      "cell_type": "markdown",
      "source": [
        "test 1 data"
      ],
      "metadata": {
        "id": "A9tJaIFwIPWa"
      }
    },
    {
      "cell_type": "code",
      "source": [
        "Y_pred = model_LR.predict([[2022,    1,    2]])\n",
        "print(Y_pred)"
      ],
      "metadata": {
        "colab": {
          "base_uri": "https://localhost:8080/"
        },
        "id": "K4dAI2K3IQWK",
        "outputId": "4a4422f7-f7c4-4c7a-86df-8a4b4ec52496"
      },
      "execution_count": 99,
      "outputs": [
        {
          "output_type": "stream",
          "name": "stdout",
          "text": [
            "[[9870.1380759]]\n"
          ]
        }
      ]
    },
    {
      "cell_type": "markdown",
      "source": [
        "## with KNN"
      ],
      "metadata": {
        "id": "DpnuN0JQCcUz"
      }
    },
    {
      "cell_type": "code",
      "source": [
        "from sklearn.neighbors import KNeighborsRegressor\n",
        "neigh = KNeighborsRegressor()\n",
        "neigh.fit(x.to_numpy(), y)"
      ],
      "metadata": {
        "colab": {
          "base_uri": "https://localhost:8080/"
        },
        "id": "3KIMDsatCeZk",
        "outputId": "3d0cbff2-4377-45ae-a48e-5748af526b9b"
      },
      "execution_count": 100,
      "outputs": [
        {
          "output_type": "execute_result",
          "data": {
            "text/plain": [
              "KNeighborsRegressor()"
            ]
          },
          "metadata": {},
          "execution_count": 100
        }
      ]
    },
    {
      "cell_type": "markdown",
      "source": [
        "test to test dataset"
      ],
      "metadata": {
        "id": "fhnjxr1RDUpL"
      }
    },
    {
      "cell_type": "code",
      "source": [
        "Y_pred = neigh.predict(x_test.to_numpy())\n",
        "print(mean_absolute_percentage_error(y_test.to_numpy(), Y_pred))"
      ],
      "metadata": {
        "colab": {
          "base_uri": "https://localhost:8080/"
        },
        "id": "73BXkvlsC03H",
        "outputId": "fde51d90-6d48-4dd5-99d2-fe2d56151d4a"
      },
      "execution_count": 101,
      "outputs": [
        {
          "output_type": "stream",
          "name": "stdout",
          "text": [
            "0.028702441488998965\n"
          ]
        }
      ]
    },
    {
      "cell_type": "markdown",
      "source": [
        "# Model yang dipilih adalah Linier Regression, karena memberikan skor MAPE yang baik dan paling cocok dengan karakteristik data"
      ],
      "metadata": {
        "id": "BxiHRqtsDWGm"
      }
    },
    {
      "cell_type": "markdown",
      "source": [
        "save model"
      ],
      "metadata": {
        "id": "Uk-6Sk0OjuZe"
      }
    },
    {
      "cell_type": "code",
      "source": [
        "import pickle\n",
        "# save to file model.pkl\n",
        "pickle.dump(model_LR, open('model.pkl', 'wb'))"
      ],
      "metadata": {
        "id": "0FHK1HBCjt2W"
      },
      "execution_count": 102,
      "outputs": []
    },
    {
      "cell_type": "code",
      "source": [
        "# load model\n",
        "pickled_model = pickle.load(open('model.pkl', 'rb'))\n",
        "\n",
        "# test predict\n",
        "pickled_model.predict(x.to_numpy())"
      ],
      "metadata": {
        "id": "M9RCalg3kVQp",
        "colab": {
          "base_uri": "https://localhost:8080/"
        },
        "outputId": "63d2c673-6a73-4994-dcca-6af51f721b92"
      },
      "execution_count": 103,
      "outputs": [
        {
          "output_type": "execute_result",
          "data": {
            "text/plain": [
              "array([[ 8318.09187769],\n",
              "       [ 8018.21727769],\n",
              "       [ 7718.34267769],\n",
              "       [ 8321.62768516],\n",
              "       [ 8021.75308516],\n",
              "       [ 7721.87848516],\n",
              "       [ 8325.16349262],\n",
              "       [ 8025.28889262],\n",
              "       [ 7725.41429262],\n",
              "       [ 8328.69930009],\n",
              "       [ 8028.82470009],\n",
              "       [ 7728.95010009],\n",
              "       [ 8332.23510756],\n",
              "       [ 8032.36050756],\n",
              "       [ 7732.48590756],\n",
              "       [ 8335.77091503],\n",
              "       [ 8035.89631503],\n",
              "       [ 7736.02171503],\n",
              "       [ 8339.30672249],\n",
              "       [ 8039.43212249],\n",
              "       [ 7739.55752249],\n",
              "       [ 8342.84252996],\n",
              "       [ 8042.96792996],\n",
              "       [ 7743.09332996],\n",
              "       [ 8346.37833743],\n",
              "       [ 8046.50373743],\n",
              "       [ 7746.62913743],\n",
              "       [ 8349.91414489],\n",
              "       [ 8050.03954489],\n",
              "       [ 7750.16494489],\n",
              "       [ 8353.44995236],\n",
              "       [ 8053.57535236],\n",
              "       [ 7753.70075236],\n",
              "       [ 8356.98575983],\n",
              "       [ 8057.11115983],\n",
              "       [ 7757.23655983],\n",
              "       [ 8556.78738777],\n",
              "       [ 8256.91278777],\n",
              "       [ 7957.03818777],\n",
              "       [ 8560.32319524],\n",
              "       [ 8260.44859524],\n",
              "       [ 7960.57399524],\n",
              "       [ 8563.85900271],\n",
              "       [ 8263.98440271],\n",
              "       [ 7964.10980271],\n",
              "       [ 8567.39481017],\n",
              "       [ 8267.52021017],\n",
              "       [ 7967.64561017],\n",
              "       [ 8570.93061764],\n",
              "       [ 8271.05601764],\n",
              "       [ 7971.18141764],\n",
              "       [ 8574.46642511],\n",
              "       [ 8274.59182511],\n",
              "       [ 7974.71722511],\n",
              "       [ 8578.00223257],\n",
              "       [ 8278.12763257],\n",
              "       [ 7978.25303257],\n",
              "       [ 8581.53804004],\n",
              "       [ 8281.66344004],\n",
              "       [ 7981.78884004],\n",
              "       [ 8585.07384751],\n",
              "       [ 8285.19924751],\n",
              "       [ 7985.32464751],\n",
              "       [ 8588.60965498],\n",
              "       [ 8288.73505498],\n",
              "       [ 7988.86045497],\n",
              "       [ 8592.14546244],\n",
              "       [ 8292.27086244],\n",
              "       [ 7992.39626244],\n",
              "       [ 8595.68126991],\n",
              "       [ 8295.80666991],\n",
              "       [ 7995.93206991],\n",
              "       [ 8795.48289786],\n",
              "       [ 8495.60829786],\n",
              "       [ 8195.73369786],\n",
              "       [ 8799.01870532],\n",
              "       [ 8499.14410532],\n",
              "       [ 8199.26950532],\n",
              "       [ 8802.55451279],\n",
              "       [ 8502.67991279],\n",
              "       [ 8202.80531279],\n",
              "       [ 8806.09032026],\n",
              "       [ 8506.21572026],\n",
              "       [ 8206.34112026],\n",
              "       [ 8809.62612772],\n",
              "       [ 8509.75152772],\n",
              "       [ 8209.87692772],\n",
              "       [ 8813.16193519],\n",
              "       [ 8513.28733519],\n",
              "       [ 8213.41273519],\n",
              "       [ 8816.69774266],\n",
              "       [ 8516.82314266],\n",
              "       [ 8216.94854266],\n",
              "       [ 8820.23355012],\n",
              "       [ 8520.35895012],\n",
              "       [ 8220.48435012],\n",
              "       [ 8823.76935759],\n",
              "       [ 8523.89475759],\n",
              "       [ 8224.02015759],\n",
              "       [ 8827.30516506],\n",
              "       [ 8527.43056506],\n",
              "       [ 8227.55596506],\n",
              "       [ 8830.84097252],\n",
              "       [ 8530.96637252],\n",
              "       [ 8231.09177252],\n",
              "       [ 8834.37677999],\n",
              "       [ 8534.50217999],\n",
              "       [ 8234.62757999],\n",
              "       [ 9034.17840794],\n",
              "       [ 8734.30380794],\n",
              "       [ 8434.42920794],\n",
              "       [ 9037.7142154 ],\n",
              "       [ 8737.8396154 ],\n",
              "       [ 8437.9650154 ],\n",
              "       [ 9041.25002287],\n",
              "       [ 8741.37542287],\n",
              "       [ 8441.50082287],\n",
              "       [ 9044.78583034],\n",
              "       [ 8744.91123034],\n",
              "       [ 8445.03663034],\n",
              "       [ 9048.32163781],\n",
              "       [ 8748.44703781],\n",
              "       [ 8448.57243781],\n",
              "       [ 9051.85744527],\n",
              "       [ 8751.98284527],\n",
              "       [ 8452.10824527],\n",
              "       [ 9055.39325274],\n",
              "       [ 8755.51865274],\n",
              "       [ 8455.64405274],\n",
              "       [ 9058.92906021],\n",
              "       [ 8759.05446021],\n",
              "       [ 8459.17986021],\n",
              "       [ 9062.46486767],\n",
              "       [ 8762.59026767],\n",
              "       [ 8462.71566767],\n",
              "       [ 9066.00067514],\n",
              "       [ 8766.12607514],\n",
              "       [ 8466.25147514],\n",
              "       [ 9069.53648261],\n",
              "       [ 8769.66188261],\n",
              "       [ 8469.78728261],\n",
              "       [ 9073.07229007],\n",
              "       [ 8773.19769007],\n",
              "       [ 8473.32309007],\n",
              "       [ 9272.87391802],\n",
              "       [ 8972.99931802],\n",
              "       [ 8673.12471802],\n",
              "       [ 9276.40972549],\n",
              "       [ 8976.53512549],\n",
              "       [ 8676.66052549],\n",
              "       [ 9279.94553295],\n",
              "       [ 8980.07093295],\n",
              "       [ 8680.19633295],\n",
              "       [ 9283.48134042],\n",
              "       [ 8983.60674042],\n",
              "       [ 8683.73214042],\n",
              "       [ 9287.01714789],\n",
              "       [ 8987.14254789],\n",
              "       [ 8687.26794789],\n",
              "       [ 9290.55295535],\n",
              "       [ 8990.67835535],\n",
              "       [ 8690.80375535],\n",
              "       [ 9294.08876282],\n",
              "       [ 8994.21416282],\n",
              "       [ 8694.33956282],\n",
              "       [ 9297.62457029],\n",
              "       [ 8997.74997029],\n",
              "       [ 8697.87537029],\n",
              "       [ 9301.16037775],\n",
              "       [ 9001.28577775],\n",
              "       [ 8701.41117775],\n",
              "       [ 9304.69618522],\n",
              "       [ 9004.82158522],\n",
              "       [ 8704.94698522],\n",
              "       [ 9308.23199269],\n",
              "       [ 9008.35739269],\n",
              "       [ 8708.48279269],\n",
              "       [ 9311.76780016],\n",
              "       [ 9011.89320016],\n",
              "       [ 8712.01860016],\n",
              "       [ 9511.5694281 ],\n",
              "       [ 9211.6948281 ],\n",
              "       [ 8911.8202281 ],\n",
              "       [ 9515.10523557],\n",
              "       [ 9215.23063557],\n",
              "       [ 8915.35603557],\n",
              "       [ 9518.64104304],\n",
              "       [ 9218.76644304],\n",
              "       [ 8918.89184304],\n",
              "       [ 9522.1768505 ],\n",
              "       [ 9222.3022505 ],\n",
              "       [ 8922.4276505 ],\n",
              "       [ 9525.71265797],\n",
              "       [ 9225.83805797],\n",
              "       [ 8925.96345797],\n",
              "       [ 9529.24846544],\n",
              "       [ 9229.37386544],\n",
              "       [ 8929.49926544],\n",
              "       [ 9532.7842729 ],\n",
              "       [ 9232.9096729 ],\n",
              "       [ 8933.0350729 ],\n",
              "       [ 9536.32008037],\n",
              "       [ 9236.44548037],\n",
              "       [ 8936.57088037],\n",
              "       [ 9539.85588784],\n",
              "       [ 9239.98128784],\n",
              "       [ 8940.10668784],\n",
              "       [ 9543.3916953 ],\n",
              "       [ 9243.5170953 ],\n",
              "       [ 8943.6424953 ],\n",
              "       [ 9546.92750277],\n",
              "       [ 9247.05290277],\n",
              "       [ 8947.17830277],\n",
              "       [ 9550.46331024],\n",
              "       [ 9250.58871024],\n",
              "       [ 8950.71411024],\n",
              "       [ 9750.26493818],\n",
              "       [ 9450.39033818],\n",
              "       [ 9150.51573818],\n",
              "       [ 9753.80074565],\n",
              "       [ 9453.92614565],\n",
              "       [ 9154.05154565],\n",
              "       [ 9757.33655312],\n",
              "       [ 9457.46195312],\n",
              "       [ 9157.58735312],\n",
              "       [ 9760.87236058],\n",
              "       [ 9460.99776058],\n",
              "       [ 9161.12316058],\n",
              "       [ 9764.40816805],\n",
              "       [ 9464.53356805],\n",
              "       [ 9164.65896805],\n",
              "       [ 9767.94397552],\n",
              "       [ 9468.06937552],\n",
              "       [ 9168.19477552],\n",
              "       [ 9771.47978299],\n",
              "       [ 9471.60518299],\n",
              "       [ 9171.73058299],\n",
              "       [ 9775.01559045],\n",
              "       [ 9475.14099045],\n",
              "       [ 9175.26639045],\n",
              "       [ 9778.55139792],\n",
              "       [ 9478.67679792],\n",
              "       [ 9178.80219792],\n",
              "       [ 9782.08720539],\n",
              "       [ 9482.21260539],\n",
              "       [ 9182.33800539],\n",
              "       [ 9785.62301285],\n",
              "       [ 9485.74841285],\n",
              "       [ 9185.87381285],\n",
              "       [ 9789.15882032],\n",
              "       [ 9489.28422032],\n",
              "       [ 9189.40962032],\n",
              "       [ 9988.96044827],\n",
              "       [ 9689.08584827],\n",
              "       [ 9389.21124827],\n",
              "       [ 9992.49625573],\n",
              "       [ 9692.62165573],\n",
              "       [ 9392.74705573],\n",
              "       [ 9996.0320632 ],\n",
              "       [ 9696.1574632 ],\n",
              "       [ 9396.2828632 ],\n",
              "       [ 9999.56787067],\n",
              "       [ 9699.69327067],\n",
              "       [ 9399.81867067],\n",
              "       [10003.10367813],\n",
              "       [ 9703.22907813],\n",
              "       [ 9403.35447813],\n",
              "       [10006.6394856 ],\n",
              "       [ 9706.7648856 ],\n",
              "       [ 9406.8902856 ],\n",
              "       [10010.17529307],\n",
              "       [ 9710.30069307],\n",
              "       [ 9410.42609307],\n",
              "       [10013.71110053],\n",
              "       [ 9713.83650053],\n",
              "       [ 9413.96190053],\n",
              "       [10017.246908  ],\n",
              "       [ 9717.372308  ],\n",
              "       [ 9417.497708  ],\n",
              "       [10020.78271547],\n",
              "       [ 9720.90811547],\n",
              "       [ 9421.03351547],\n",
              "       [10024.31852294],\n",
              "       [ 9724.44392294],\n",
              "       [ 9424.56932294],\n",
              "       [10027.8543304 ],\n",
              "       [ 9727.9797304 ],\n",
              "       [ 9428.1051304 ],\n",
              "       [10227.65595835],\n",
              "       [ 9927.78135835],\n",
              "       [ 9627.90675835],\n",
              "       [10231.19176582],\n",
              "       [ 9931.31716582],\n",
              "       [ 9631.44256582],\n",
              "       [10234.72757328],\n",
              "       [ 9934.85297328],\n",
              "       [ 9634.97837328],\n",
              "       [10238.26338075],\n",
              "       [ 9938.38878075],\n",
              "       [ 9638.51418075]])"
            ]
          },
          "metadata": {},
          "execution_count": 103
        }
      ]
    }
  ],
  "metadata": {
    "colab": {
      "provenance": [],
      "collapsed_sections": []
    },
    "kernelspec": {
      "display_name": "Python 3",
      "name": "python3"
    },
    "language_info": {
      "name": "python"
    }
  },
  "nbformat": 4,
  "nbformat_minor": 0
}